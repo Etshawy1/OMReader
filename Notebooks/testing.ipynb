{
 "cells": [
  {
   "cell_type": "code",
   "execution_count": null,
   "metadata": {},
   "outputs": [],
   "source": [
    "from commonfunctions import *\n",
    "import os\n",
    "from skimage.filters import threshold_otsu\n",
    "from skimage.exposure import equalize_hist\n"
   ]
  },
  {
   "cell_type": "code",
   "execution_count": null,
   "metadata": {},
   "outputs": [],
   "source": [
    "directory = os.fsencode(\"./dataset\")\n",
    "dataset = []\n",
    "for file in os.listdir(directory):\n",
    "    filename = os.fsdecode(file)\n",
    "    if filename.endswith(\".png\") or filename.endswith(\".jpg\"):\n",
    "        image = rgb2gray(io.imread(os.path.join('./dataset/', filename)))\n",
    "        if image.dtype != \"uint8\":\n",
    "            image = (image * 255).astype(\"uint8\")\n",
    "        dataset.append(image)\n"
   ]
  },
  {
   "cell_type": "code",
   "execution_count": null,
   "metadata": {},
   "outputs": [],
   "source": [
    "for img in dataset:\n",
    "    binary = img > threshold_otsu(img)\n",
    "    binary1 = adaptiveThresh(img, t = 15, div = 8)\n",
    "    show_images([img, binary, binary1], [\"original image\", \"otsu image\", \"adaptive image\"])\n"
   ]
  },
  {
   "cell_type": "code",
   "execution_count": null,
   "metadata": {},
   "outputs": [],
   "source": [
    "# testing salt and pepper noise\n",
    "noisy_images = []\n",
    "for img in dataset:\n",
    "    noisy_image = random_noise(img, mode='s&p', amount=0.05)\n",
    "    noisy_image = (noisy_image * 255).astype(np.uint8)\n",
    "    noisy_images.append(noisy_image)\n",
    "\n",
    "for noisy_img in noisy_images:\n",
    "    h_filtered_img = hybridMedian(noisy_img)\n",
    "    filtered_img = median(noisy_img)\n",
    "    show_images([noisy_img, filtered_img, h_filtered_img], [\"noisy_img\", \"filtered image\", \"hybrid filtered image\"])\n"
   ]
  },
  {
   "cell_type": "code",
   "execution_count": null,
   "metadata": {},
   "outputs": [],
   "source": []
  }
 ],
 "metadata": {
  "kernelspec": {
   "name": "python3",
   "language": "python",
   "display_name": "Python 3"
  },
  "language_info": {
   "codemirror_mode": {
    "name": "ipython",
    "version": 3
   },
   "file_extension": ".py",
   "mimetype": "text/x-python",
   "name": "python",
   "nbconvert_exporter": "python",
   "pygments_lexer": "ipython3",
   "version": "3.8.5-final"
  }
 },
 "nbformat": 4,
 "nbformat_minor": 4
}